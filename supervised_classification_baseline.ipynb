{
 "cells": [
  {
   "cell_type": "code",
   "execution_count": 1,
   "metadata": {
    "collapsed": true
   },
   "outputs": [],
   "source": [
    "import pandas as pd\n",
    "import numpy as np\n",
    "import os\n",
    "import scipy\n",
    "import random"
   ]
  },
  {
   "cell_type": "markdown",
   "metadata": {},
   "source": [
    "### read data"
   ]
  },
  {
   "cell_type": "code",
   "execution_count": 2,
   "metadata": {
    "collapsed": true
   },
   "outputs": [],
   "source": [
    "path = \"comments_data/\"\n",
    "angry = pd.read_csv(os.path.join(path,\"angry.txt\"),header=None)\n",
    "sad = pd.read_csv(os.path.join(path,\"sad.txt\"),header=None)\n",
    "love = pd.read_csv(os.path.join(path,\"love.txt\"),header=None)\n",
    "haha = pd.read_csv(os.path.join(path,\"haha.txt\"),header=None)"
   ]
  },
  {
   "cell_type": "code",
   "execution_count": 3,
   "metadata": {
    "collapsed": true
   },
   "outputs": [],
   "source": [
    "# pd.set_option('display.max_columns', None)\n",
    "# pd.set_option('display.max_rows', None)"
   ]
  },
  {
   "cell_type": "code",
   "execution_count": 4,
   "metadata": {
    "collapsed": true
   },
   "outputs": [],
   "source": [
    "# angry[\"label\"] = 0\n",
    "# sad[\"label\"] = 1"
   ]
  },
  {
   "cell_type": "markdown",
   "metadata": {},
   "source": [
    "### labels angry 0 sad 1 haha 2 love 3"
   ]
  },
  {
   "cell_type": "code",
   "execution_count": 5,
   "metadata": {
    "collapsed": true
   },
   "outputs": [],
   "source": [
    "total_dataframe = []\n",
    "total_dataframe.append(angry)\n",
    "total_dataframe.append(sad)\n",
    "total_dataframe.append(haha)\n",
    "total_dataframe.append(love)"
   ]
  },
  {
   "cell_type": "code",
   "execution_count": 6,
   "metadata": {
    "collapsed": false
   },
   "outputs": [
    {
     "data": {
      "text/plain": [
       "(1953, 1)"
      ]
     },
     "execution_count": 6,
     "metadata": {},
     "output_type": "execute_result"
    }
   ],
   "source": [
    "total_dataframe[3].shape"
   ]
  },
  {
   "cell_type": "code",
   "execution_count": 7,
   "metadata": {
    "collapsed": true
   },
   "outputs": [],
   "source": [
    "import copy\n",
    "def create_labels(data_frame):\n",
    "    total_labels = []\n",
    "    for i in range(4):\n",
    "        total_labels.append(np.zeros(data_frame[i].shape))\n",
    "        total_labels[i]+=i\n",
    "    labels_array = copy.deepcopy(total_labels[0])\n",
    "    for i in range(3):\n",
    "        labels_array = np.append(labels_array,total_labels[i+1])\n",
    "    return np.array(labels_array,dtype=np.int)"
   ]
  },
  {
   "cell_type": "code",
   "execution_count": 8,
   "metadata": {
    "collapsed": false
   },
   "outputs": [
    {
     "name": "stdout",
     "output_type": "stream",
     "text": [
      "[0 0 0 ... 3 3 3]\n"
     ]
    }
   ],
   "source": [
    "labels_array = create_labels(total_dataframe)\n",
    "print(labels_array)"
   ]
  },
  {
   "cell_type": "code",
   "execution_count": 9,
   "metadata": {
    "collapsed": false
   },
   "outputs": [
    {
     "name": "stdout",
     "output_type": "stream",
     "text": [
      "1520\n",
      "(1520,)\n"
     ]
    }
   ],
   "source": [
    "def data_split(data_frame,labels):\n",
    "    index = np.arange(len(labels_array))\n",
    "    np.random.shuffle(index)\n",
    "    start = int(len(index)/10)\n",
    "    print(start)\n",
    "    test_index = index[:start]\n",
    "    train_index = index[start:len(index)]\n",
    "    print(test_index.shape)\n",
    "    train_values,train_labels = data_frame.values[train_index],labels_array[train_index]\n",
    "    test_values,test_labels = data_frame.values[test_index],labels_array[test_index]\n",
    "    \n",
    "    train_values = pd.DataFrame(train_values)\n",
    "    train_values.to_csv(os.path.join(path,\"total_train_value.csv\"))\n",
    "    \n",
    "    test_values = pd.DataFrame(test_values)\n",
    "    test_values.to_csv(os.path.join(path,\"total_test_value.csv\"))\n",
    "    \n",
    "    train_labels = pd.DataFrame(train_labels)\n",
    "    train_labels.to_csv(os.path.join(path,\"total_train_label.csv\"))\n",
    "    \n",
    "    test_labels = pd.DataFrame(test_labels)\n",
    "    test_labels.to_csv(os.path.join(path,\"total_test_label.csv\"))\n",
    "\n",
    "data_split(angry.append(sad).append(haha).append(love),labels_array)"
   ]
  },
  {
   "cell_type": "code",
   "execution_count": 10,
   "metadata": {
    "collapsed": false
   },
   "outputs": [
    {
     "name": "stdout",
     "output_type": "stream",
     "text": [
      "start 442\n"
     ]
    }
   ],
   "source": [
    "def data_frame_integrate(data_frame_list):\n",
    "    assert len(data_frame_list) >= 2\n",
    "    res = data_frame_list[0]\n",
    "    for i in range(1,len(data_frame_list)):\n",
    "        res = res.append(data_frame_list[i])\n",
    "#     print(res.shape)\n",
    "    return res\n",
    "def data_balanced_split(data_frame_list):\n",
    "    length_list = [len(elem) for elem in data_frame_list]\n",
    "    min_length = np.min([len(elem) for elem in data_frame_list])\n",
    "    \n",
    "    random_index_list = [np.arange(len(elem)) for elem in data_frame_list]\n",
    "    for i in range(len(random_index_list)):\n",
    "        random.shuffle(random_index_list[i])\n",
    "    random_index_list = np.array([elem[:min_length] for elem in random_index_list])\n",
    "\n",
    "    offset_lam = lambda x,i: sum([x[j] for j in range(i)])\n",
    "#     sum_lam = lambda x: sum([len(elem) for elem in x])\n",
    "    offset_list = [offset_lam(length_list,i) for i in range(len(random_index_list))]\n",
    "    for i in range(len(data_frame_list)):\n",
    "        random_index_list[i]+= offset_list[i]\n",
    "        \n",
    "    for i in range(len(data_frame_list)):\n",
    "        assert (max(random_index_list[i]) - min(random_index_list[i])) > 0.9*len(data_frame_list[i])\n",
    "    assert (random_index_list[0]<random_index_list[1]).all()\n",
    "\n",
    "\n",
    "    index = random_index_list.reshape((min_length*len(data_frame_list),))\n",
    "    random.shuffle(index)\n",
    "#     print(index.shape)\n",
    "\n",
    "    start = int(index.shape[0]/10)\n",
    "    print(\"start\",start)\n",
    "#     labes_array = [np.zeros(len(data_frame_list)) for i in range]\n",
    "    test_index = index[:start]\n",
    "    train_index = index[start:len(index)]\n",
    "\n",
    "    data_frame = data_frame_integrate(data_frame_list)\n",
    "    \n",
    "    train_values,train_labels = data_frame.values[train_index],labels_array[train_index]\n",
    "    test_values,test_labels = data_frame.values[test_index],labels_array[test_index]\n",
    "#     print(test_index)\n",
    "    train_values = pd.DataFrame(train_values)\n",
    "    train_values.to_csv(os.path.join(path,\"balanced_train_value.csv\"))\n",
    "    \n",
    "    test_values = pd.DataFrame(test_values)\n",
    "    test_values.to_csv(os.path.join(path,\"balanced_test_value.csv\"))\n",
    "    \n",
    "    train_labels = pd.DataFrame(train_labels)\n",
    "    train_labels.to_csv(os.path.join(path,\"balanced_train_label.csv\"))\n",
    "    \n",
    "    test_labels = pd.DataFrame(test_labels)\n",
    "    test_labels.to_csv(os.path.join(path,\"balanced_test_label.csv\"))\n",
    "\n",
    "data_balanced_split(total_dataframe)"
   ]
  },
  {
   "cell_type": "markdown",
   "metadata": {
    "collapsed": true
   },
   "source": [
    "### overview of the data"
   ]
  },
  {
   "cell_type": "code",
   "execution_count": 11,
   "metadata": {
    "collapsed": true
   },
   "outputs": [],
   "source": [
    "def sentence_to_word_array(data_frame):\n",
    "    temp = data_frame.values\n",
    "    new_array = [str(element).split(\" \") for element in temp]\n",
    "    return new_array"
   ]
  },
  {
   "cell_type": "code",
   "execution_count": 12,
   "metadata": {
    "collapsed": false
   },
   "outputs": [
    {
     "data": {
      "image/png": "[encoded data removed]",
      "text/plain": [
       "<matplotlib.figure.Figure at 0x10ba4d470>"
      ]
     },
     "metadata": {},
     "output_type": "display_data"
    },
    {
     "name": "stdout",
     "output_type": "stream",
     "text": [
      "percentage of less than 50 words:  0.9508798582099\n"
     ]
    }
   ],
   "source": [
    "from scipy.stats.mstats import mode\n",
    "import matplotlib.pyplot as plt\n",
    "angry_example = sentence_to_word_array(angry)\n",
    "length_array = np.array([len(elem) for elem in angry_example])\n",
    "# length_dict = np.\n",
    "short = length_array[length_array<50]\n",
    "plt.hist(short)\n",
    "plt.show()\n",
    "percentage = sum(length_array<50)/len(length_array)\n",
    "print(\"percentage of less than 50 words: \", percentage)"
   ]
  },
  {
   "cell_type": "markdown",
   "metadata": {},
   "source": [
    "### tokenizer for all"
   ]
  },
  {
   "cell_type": "code",
   "execution_count": 13,
   "metadata": {
    "collapsed": false
   },
   "outputs": [
    {
     "name": "stderr",
     "output_type": "stream",
     "text": [
      "/anaconda3/lib/python3.6/site-packages/h5py/__init__.py:34: FutureWarning: Conversion of the second argument of issubdtype from `float` to `np.floating` is deprecated. In future, it will be treated as `np.float64 == np.dtype(float).type`.\n",
      "  from ._conv import register_converters as _register_converters\n",
      "Using TensorFlow backend.\n"
     ]
    }
   ],
   "source": [
    "import keras"
   ]
  },
  {
   "cell_type": "code",
   "execution_count": 14,
   "metadata": {
    "collapsed": true
   },
   "outputs": [],
   "source": [
    "from keras.preprocessing.text import Tokenizer\n",
    "from keras.preprocessing.sequence import pad_sequences\n",
    "total_comments = angry.append(sad).append(haha).append(love)\n",
    "\n",
    "def tokenizer_in_total(data_frame,max_tokenizer_words):\n",
    "    temp_tokenizer = Tokenizer(num_words=max_tokenizer_words+1,lower=True,filters=' ',split=' ',oov_token='UNK')\n",
    "    temp_tokenizer.fit_on_texts(data_frame)\n",
    "    temp_tokenizer.word_index = {elem:i for elem,i in temp_tokenizer.word_index.items() if i<=max_tokenizer_words}\n",
    "    return temp_tokenizer"
   ]
  },
  {
   "cell_type": "code",
   "execution_count": 17,
   "metadata": {
    "collapsed": true
   },
   "outputs": [],
   "source": [
    "total_comments = angry.append(sad).append(haha).append(love)\n",
    "total_comments.values[0]\n",
    "comments_tokenizer = tokenizer_in_total(total_comments[0],10000)"
   ]
  },
  {
   "cell_type": "code",
   "execution_count": 18,
   "metadata": {
    "collapsed": true
   },
   "outputs": [],
   "source": [
    "def to_tokens(tokenizer,sentences,max_words):\n",
    "    return pad_sequences(tokenizer.texts_to_sequences(sentences),\n",
    "                        maxlen=max_words,\n",
    "                         padding='post',truncating='post')   "
   ]
  },
  {
   "cell_type": "markdown",
   "metadata": {},
   "source": [
    "total_comments.shape"
   ]
  },
  {
   "cell_type": "code",
   "execution_count": 27,
   "metadata": {
    "collapsed": false
   },
   "outputs": [
    {
     "data": {
      "text/plain": [
       "array([['despite its propaganda of family values and religiosity the obamacare repeal effort exposed is that the only god republicans worship is the republican party and the dollarthis country has been hopelessly given over to a reprobate mind']],\n",
       "      dtype=object)"
      ]
     },
     "execution_count": 27,
     "metadata": {},
     "output_type": "execute_result"
    }
   ],
   "source": [
    "total_comments[0:1].values"
   ]
  },
  {
   "cell_type": "markdown",
   "metadata": {},
   "source": [
    "### tokenizer for balanced subset"
   ]
  },
  {
   "cell_type": "code",
   "execution_count": 120,
   "metadata": {
    "collapsed": true
   },
   "outputs": [],
   "source": [
    "balanced_train_value_df = pd.read_csv(os.path.join(path,\"balanced_train_value.csv\"))\n",
    "balanced_train_label_df = pd.read_csv(os.path.join(path,\"balanced_train_label.csv\"))\n",
    "balanced_test_value_df = pd.read_csv(os.path.join(path,\"balanced_test_value.csv\"))\n",
    "balanced_test_label_df = pd.read_csv(os.path.join(path,\"balanced_test_label.csv\"))\n",
    "total_balanced_comments = balanced_train_value_df.append(balanced_test_value_df)"
   ]
  },
  {
   "cell_type": "code",
   "execution_count": 121,
   "metadata": {
    "collapsed": false
   },
   "outputs": [
    {
     "data": {
      "text/plain": [
       "(4420, 2)"
      ]
     },
     "execution_count": 121,
     "metadata": {},
     "output_type": "execute_result"
    }
   ],
   "source": [
    "total_balanced_comments.shape"
   ]
  },
  {
   "cell_type": "code",
   "execution_count": 122,
   "metadata": {
    "collapsed": true
   },
   "outputs": [],
   "source": [
    "balanced_tokenizer = tokenizer_in_total(total_balanced_comments[\"0\"],10000)"
   ]
  },
  {
   "cell_type": "markdown",
   "metadata": {},
   "source": [
    "### load the pre-trained word-to-vector from golve"
   ]
  },
  {
   "cell_type": "code",
   "execution_count": 123,
   "metadata": {
    "collapsed": true
   },
   "outputs": [],
   "source": [
    "import csv\n",
    "from pathlib import Path\n",
    "glove_embedding_path = os.path.join(\n",
    "    \"~/data/emotion_detection/data/glove/glove.twitter.27B/glove.twitter.27B.200d.txt\")\n",
    "glove_index = pd.read_table(glove_embedding_path,\n",
    "                            sep=\" \",index_col=0,\n",
    "                            header=None,quoting=csv.QUOTE_NONE)"
   ]
  },
  {
   "cell_type": "code",
   "execution_count": 124,
   "metadata": {
    "collapsed": true
   },
   "outputs": [],
   "source": [
    "glove_mean = np.mean(glove_index.mean())\n",
    "glove_std = np.mean(glove_index.std())\n",
    "glove_size = len(glove_index.columns)\n",
    "comments_tokenizer_index = comments_tokenizer.word_index\n",
    "embedding_matrix = np.random.normal(glove_mean,glove_std,(10000+2,glove_size))\n",
    "for word,i in comments_tokenizer_index.items():\n",
    "    if word in comments_tokenizer_index.items():\n",
    "        embedding_matrix[i,:]=glove_index.loc[word].values"
   ]
  },
  {
   "cell_type": "code",
   "execution_count": 125,
   "metadata": {
    "collapsed": true
   },
   "outputs": [],
   "source": [
    "balanced_tokenizer_index = balanced_tokenizer.word_index\n",
    "balanced_embedding_matrix = np.random.normal(glove_mean,glove_std,(10000+2,glove_size))\n",
    "for word,i in balanced_tokenizer_index.items():\n",
    "    if word in balanced_tokenizer_index.items():\n",
    "        balanced_embedding_matrix[i,:]=glove_index.loc[word].values"
   ]
  },
  {
   "cell_type": "code",
   "execution_count": 126,
   "metadata": {
    "collapsed": true
   },
   "outputs": [],
   "source": [
    "X_train_df = pd.read_csv(os.path.join(path,\"total_train_value.csv\"))\n",
    "X_test_df = pd.read_csv(os.path.join(path,\"total_test_value.csv\"))"
   ]
  },
  {
   "cell_type": "code",
   "execution_count": 127,
   "metadata": {
    "collapsed": true
   },
   "outputs": [],
   "source": [
    "X_train = to_tokens(comments_tokenizer,X_train_df['0'],50)\n",
    "X_test = to_tokens(comments_tokenizer,X_test_df['0'],50)"
   ]
  },
  {
   "cell_type": "code",
   "execution_count": 128,
   "metadata": {
    "collapsed": true
   },
   "outputs": [],
   "source": [
    "y_train = pd.read_csv(os.path.join(path,\"total_train_label.csv\"))['0']\n",
    "y_test = pd.read_csv(os.path.join(path,\"total_test_label.csv\"))['0']"
   ]
  },
  {
   "cell_type": "code",
   "execution_count": 129,
   "metadata": {
    "collapsed": true
   },
   "outputs": [],
   "source": [
    "balanced_X_train = to_tokens(balanced_tokenizer,balanced_train_value_df['0'],50)\n",
    "balanced_X_test = to_tokens(balanced_tokenizer,balanced_test_value_df['0'],50)\n",
    "balanced_y_train = balanced_train_label_df[\"0\"]\n",
    "balanced_y_test = balanced_test_label_df[\"0\"]"
   ]
  },
  {
   "cell_type": "code",
   "execution_count": 133,
   "metadata": {
    "collapsed": true
   },
   "outputs": [],
   "source": [
    "# balanced_test_value_df"
   ]
  },
  {
   "cell_type": "code",
   "execution_count": 134,
   "metadata": {
    "collapsed": true
   },
   "outputs": [],
   "source": [
    "# balanced_y_test"
   ]
  },
  {
   "cell_type": "code",
   "execution_count": null,
   "metadata": {
    "collapsed": true
   },
   "outputs": [],
   "source": []
  },
  {
   "cell_type": "code",
   "execution_count": null,
   "metadata": {
    "collapsed": true
   },
   "outputs": [],
   "source": []
  },
  {
   "cell_type": "code",
   "execution_count": null,
   "metadata": {
    "collapsed": true
   },
   "outputs": [],
   "source": []
  },
  {
   "cell_type": "code",
   "execution_count": 135,
   "metadata": {
    "collapsed": true
   },
   "outputs": [],
   "source": [
    "# balanced_test_label_df"
   ]
  },
  {
   "cell_type": "code",
   "execution_count": 136,
   "metadata": {
    "collapsed": true
   },
   "outputs": [],
   "source": [
    "import keras.backend as K\n",
    "from keras.layers import Input,Dense,Embedding,Dropout, Activation\n",
    "from keras.layers import Flatten, Conv1D,MaxPooling1D\n",
    "from keras.layers import LSTM, Bidirectional\n",
    "from keras.models import Model,Sequential\n",
    "from keras import initializers,regularizers,optimizers,layers,constraints\n",
    "from keras.utils import np_utils,multi_gpu_model\n",
    "from keras.wrappers.scikit_learn import KerasClassifier\n",
    "from sklearn.preprocessing import LabelEncoder"
   ]
  },
  {
   "cell_type": "code",
   "execution_count": 137,
   "metadata": {
    "collapsed": true
   },
   "outputs": [],
   "source": [
    "cag_y_train = np_utils.to_categorical(y_train)\n",
    "cag_y_test = np_utils.to_categorical(y_test)\n",
    "balanced_cag_y_train = np_utils.to_categorical(balanced_y_train)\n",
    "balanced_cag_y_test = np_utils.to_categorical(balanced_y_test)"
   ]
  },
  {
   "cell_type": "code",
   "execution_count": 138,
   "metadata": {
    "collapsed": true
   },
   "outputs": [],
   "source": [
    "def deepLSTM1():\n",
    "    inp = Input(shape=(50,), name='input')\n",
    "    x = Embedding(10000+2, glove_size, weights=[embedding_matrix], name='embedding')(inp)\n",
    "    x = Dropout(0.2)(x)\n",
    "    x = Conv1D(filters=64, kernel_size=5, padding='valid', activation='relu', strides=1, name='conv1')(x)\n",
    "    x = MaxPooling1D(pool_size=4, name='maxpool1')(x)\n",
    "#     x = Bidirectional(LSTM(200, return_sequences=True, dropout=0.1, recurrent_dropout=0.1), name='bilstm1')(x)\n",
    "    x = Bidirectional(LSTM(100, return_sequences=True, dropout=0.1, recurrent_dropout=0.1), name='bilstm2')(x)\n",
    "    x = Bidirectional(LSTM(50, return_sequences=True, dropout=0.1, recurrent_dropout=0.1), name='bilstm3')(x)\n",
    "\n",
    "    x = Flatten()(x)\n",
    "    x = Dense(100, activation='relu', name='dense1')(x)\n",
    "    x = Dense(50, activation='relu', name='dense2')(x)\n",
    "    x = Dense(4, activation='sigmoid', name='dense3')(x)\n",
    "    model = Model(input=inp, output=x)\n",
    "    model.compile(loss='categorical_crossentropy', optimizer='adam',metrics=['accuracy'])\n",
    "    return model"
   ]
  },
  {
   "cell_type": "code",
   "execution_count": 139,
   "metadata": {
    "collapsed": false
   },
   "outputs": [
    {
     "name": "stderr",
     "output_type": "stream",
     "text": [
      "/anaconda3/lib/python3.6/site-packages/ipykernel/__main__.py:15: UserWarning: Update your `Model` call to the Keras 2 API: `Model(inputs=Tensor(\"in..., outputs=Tensor(\"de...)`\n"
     ]
    }
   ],
   "source": [
    "network_func = deepLSTM1\n",
    "model = network_func()"
   ]
  },
  {
   "cell_type": "code",
   "execution_count": 140,
   "metadata": {
    "collapsed": true
   },
   "outputs": [],
   "source": [
    "# model.fit(X_train, cag_y_train, batch_size=32, epochs=10, validation_split=0.1)\n",
    "# print('Acc:', model.evaluate(X_test, cag_y_test, batch_size=32)[1])"
   ]
  },
  {
   "cell_type": "code",
   "execution_count": 141,
   "metadata": {
    "collapsed": false
   },
   "outputs": [
    {
     "data": {
      "text/plain": [
       "(442, 4)"
      ]
     },
     "execution_count": 141,
     "metadata": {},
     "output_type": "execute_result"
    }
   ],
   "source": [
    "balanced_cag_y_test.shape"
   ]
  },
  {
   "cell_type": "code",
   "execution_count": 142,
   "metadata": {
    "collapsed": false
   },
   "outputs": [
    {
     "name": "stdout",
     "output_type": "stream",
     "text": [
      "Train on 3580 samples, validate on 398 samples\n",
      "Epoch 1/10\n",
      "3580/3580 [==============================] - 15s 4ms/step - loss: 1.3853 - acc: 0.2640 - val_loss: 1.3761 - val_acc: 0.2462\n",
      "Epoch 2/10\n",
      "3580/3580 [==============================] - 9s 2ms/step - loss: 1.3561 - acc: 0.3212 - val_loss: 1.3584 - val_acc: 0.3367\n",
      "Epoch 3/10\n",
      "3580/3580 [==============================] - 9s 3ms/step - loss: 1.1990 - acc: 0.4494 - val_loss: 1.2866 - val_acc: 0.3920\n",
      "Epoch 4/10\n",
      "3580/3580 [==============================] - 9s 2ms/step - loss: 1.0438 - acc: 0.5427 - val_loss: 1.2981 - val_acc: 0.4045\n",
      "Epoch 5/10\n",
      "3580/3580 [==============================] - 9s 3ms/step - loss: 0.8352 - acc: 0.6388 - val_loss: 1.3611 - val_acc: 0.4221\n",
      "Epoch 6/10\n",
      "3580/3580 [==============================] - 9s 3ms/step - loss: 0.6786 - acc: 0.7176 - val_loss: 1.5646 - val_acc: 0.4070\n",
      "Epoch 7/10\n",
      "3580/3580 [==============================] - 9s 3ms/step - loss: 0.5580 - acc: 0.7737 - val_loss: 1.6513 - val_acc: 0.4196\n",
      "Epoch 8/10\n",
      "3580/3580 [==============================] - 9s 3ms/step - loss: 0.4514 - acc: 0.8165 - val_loss: 1.8976 - val_acc: 0.4196\n",
      "Epoch 9/10\n",
      "3580/3580 [==============================] - 10s 3ms/step - loss: 0.3623 - acc: 0.8628 - val_loss: 2.0947 - val_acc: 0.4347\n",
      "Epoch 10/10\n",
      "3580/3580 [==============================] - 9s 3ms/step - loss: 0.2917 - acc: 0.8908 - val_loss: 2.3229 - val_acc: 0.4447\n",
      "442/442 [==============================] - 0s 391us/step\n",
      "Acc: 0.47963800945433016\n"
     ]
    }
   ],
   "source": [
    "model.fit(balanced_X_train, balanced_cag_y_train, batch_size=32, epochs=10, validation_split=0.1)\n",
    "print('Acc:', model.evaluate(balanced_X_test, balanced_cag_y_test, batch_size=32)[1])"
   ]
  },
  {
   "cell_type": "code",
   "execution_count": 143,
   "metadata": {
    "collapsed": true
   },
   "outputs": [],
   "source": [
    "def accuracy(model,X_test,y_test):\n",
    "    y_predict = model.predict(X_test)\n",
    "    y_predict = np.array([np.argmax(elem) for elem in y_predict])\n",
    "    res = sum(y_predict==y_test)/len(y_test)\n",
    "    return res\n",
    "def error_collection(X_test_df,y_test,y_predict,file_name):\n",
    "    print(y_test.shape)\n",
    "    print(y_predict.shape)\n",
    "    string_list = [\"angry\",\"sad\",\"haha\",\"love\"]\n",
    "    error_set = X_test_df[y_predict!=y_test]\n",
    "    groud_truth = [string_list[i] for i in y_test[y_predict!=y_test]]\n",
    "    prediction = [string_list[i] for i in y_predict[y_predict!=y_test]]\n",
    "    content = []\n",
    "    content.append(groud_truth)\n",
    "    content.append(prediction)\n",
    "    content.append(list(error_set.values[:,1]))\n",
    "    temp_df = pd.DataFrame(content)\n",
    "    temp_df.rename(columns={\"0\":\"truth\",\"1\":\"prediction\",\"2\":\"content\"})\n",
    "    temp_df = temp_df.transpose()\n",
    "    temp_df.to_csv(file_name)\n",
    "#     return error_set.values[:,1]"
   ]
  },
  {
   "cell_type": "code",
   "execution_count": null,
   "metadata": {
    "collapsed": true
   },
   "outputs": [],
   "source": []
  },
  {
   "cell_type": "code",
   "execution_count": 144,
   "metadata": {
    "collapsed": true
   },
   "outputs": [],
   "source": [
    "balanced_y_predict = model.predict(balanced_X_test)\n",
    "balanced_y_predict = np.array([np.argmax(elem) for elem in balanced_y_predict])"
   ]
  },
  {
   "cell_type": "code",
   "execution_count": 145,
   "metadata": {
    "collapsed": false
   },
   "outputs": [
    {
     "name": "stdout",
     "output_type": "stream",
     "text": [
      "(442,)\n",
      "(442,)\n",
      "error angry percentage 0.20434782608695654\n",
      "error sad percentage 0.25217391304347825\n",
      "error haha percentage 0.2608695652173913\n",
      "error love percentage 0.2826086956521739\n"
     ]
    }
   ],
   "source": [
    "error_collection(balanced_test_value_df,balanced_y_test,balanced_y_predict,\"balanced_test_2.csv\")\n",
    "error_set = pd.read_csv(\"balanced_test_2.csv\")\n",
    "print(\"error angry percentage\",list(error_set[\"0\"]).count(\"angry\")/error_set.shape[0])\n",
    "print(\"error sad percentage\",list(error_set[\"0\"]).count(\"sad\")/error_set.shape[0])\n",
    "print(\"error haha percentage\",list(error_set[\"0\"]).count(\"haha\")/error_set.shape[0])\n",
    "print(\"error love percentage\",list(error_set[\"0\"]).count(\"love\")/error_set.shape[0])"
   ]
  },
  {
   "cell_type": "code",
   "execution_count": 146,
   "metadata": {
    "collapsed": true
   },
   "outputs": [],
   "source": [
    "def count_predict(predict,label,cag):\n",
    "    predict[label==cag]==cag"
   ]
  },
  {
   "cell_type": "code",
   "execution_count": 147,
   "metadata": {
    "collapsed": false
   },
   "outputs": [
    {
     "name": "stdout",
     "output_type": "stream",
     "text": [
      "+-----------+-------+-----+------+------+\n",
      "| label\\pre | angry | sad | haha | love |\n",
      "+-----------+-------+-----+------+------+\n",
      "|   angry   |   60  |  20 |  16  |  11  |\n",
      "|    sad    |   35  |  59 |  6   |  17  |\n",
      "|    haha   |   41  |  7  |  49  |  12  |\n",
      "|    love   |   26  |  34 |  5   |  44  |\n",
      "+-----------+-------+-----+------+------+\n"
     ]
    }
   ],
   "source": [
    "from prettytable import PrettyTable\n",
    "conf_matrix = PrettyTable()\n",
    "\n",
    "conf_matrix.field_names = [\"label\\\\pre\",\"angry\", \"sad\", \"haha\", \"love\"]\n",
    "\n",
    "conf_matrix.add_row([\"angry\", \n",
    "                     sum(balanced_y_predict[balanced_y_test==0]==0),\n",
    "                     sum(balanced_y_predict[balanced_y_test==0]==1),\n",
    "                     sum(balanced_y_predict[balanced_y_test==0]==2),\n",
    "                     sum(balanced_y_predict[balanced_y_test==0]==3)])\n",
    "conf_matrix.add_row([\"sad\", \n",
    "                     sum(balanced_y_predict[balanced_y_test==1]==0),\n",
    "                     sum(balanced_y_predict[balanced_y_test==1]==1),\n",
    "                     sum(balanced_y_predict[balanced_y_test==1]==2),\n",
    "                     sum(balanced_y_predict[balanced_y_test==1]==3)])\n",
    "conf_matrix.add_row([\"haha\", \n",
    "                     sum(balanced_y_predict[balanced_y_test==2]==0),\n",
    "                     sum(balanced_y_predict[balanced_y_test==2]==1),\n",
    "                     sum(balanced_y_predict[balanced_y_test==2]==2),\n",
    "                     sum(balanced_y_predict[balanced_y_test==2]==3)])\n",
    "conf_matrix.add_row([\"love\", \n",
    "                     sum(balanced_y_predict[balanced_y_test==3]==0),\n",
    "                     sum(balanced_y_predict[balanced_y_test==3]==1),\n",
    "                     sum(balanced_y_predict[balanced_y_test==3]==2),\n",
    "                     sum(balanced_y_predict[balanced_y_test==3]==3)])\n",
    "\n",
    "print(conf_matrix)\n"
   ]
  },
  {
   "cell_type": "code",
   "execution_count": 148,
   "metadata": {
    "collapsed": true
   },
   "outputs": [],
   "source": [
    "def two_classes_accuracy(y_test,y_predict):\n",
    "    comb = np.array([y_test,y_predict])\n",
    "    count = [1 if abs(i[0]-i[1])<=1 and (i[0]+i[1])!=5 else 0 for i in comb.T]\n",
    "    return sum(count)/len(y_test)"
   ]
  },
  {
   "cell_type": "code",
   "execution_count": 149,
   "metadata": {
    "collapsed": false
   },
   "outputs": [
    {
     "name": "stdout",
     "output_type": "stream",
     "text": [
      "two_classes_accuracy 0.6334841628959276\n"
     ]
    }
   ],
   "source": [
    "print(\"two_classes_accuracy\",two_classes_accuracy(balanced_y_test, balanced_y_predict))"
   ]
  },
  {
   "cell_type": "code",
   "execution_count": 67,
   "metadata": {
    "collapsed": true
   },
   "outputs": [],
   "source": [
    "# def error_plot(,y_predict):\n",
    "#     f, (ax1, ax2) = plt.subplots(1, 2, sharey=True)\n",
    "#     ax1.plot(x, y)\n",
    "#     ax2.scatter(x, y)"
   ]
  },
  {
   "cell_type": "code",
   "execution_count": null,
   "metadata": {
    "collapsed": true
   },
   "outputs": [],
   "source": [
    "def create_embedding():\n",
    "    inp = Input(shape=(50,), name='input')\n",
    "    x = Embedding(10000+2, glove_size, weights=[embedding_matrix], name='embedding')(inp)\n",
    "    model = Model(input=inp,output=x)\n",
    "    model.compile(optimizer='adam',metrics=['accuracy'])\n",
    "    return model"
   ]
  },
  {
   "cell_type": "code",
   "execution_count": null,
   "metadata": {
    "collapsed": true
   },
   "outputs": [],
   "source": [
    "# embedding_create = create_embedding()"
   ]
  },
  {
   "cell_type": "code",
   "execution_count": null,
   "metadata": {
    "collapsed": true
   },
   "outputs": [],
   "source": [
    "embedding_create.fit(X_train)"
   ]
  },
  {
   "cell_type": "code",
   "execution_count": 47,
   "metadata": {
    "collapsed": false
   },
   "outputs": [
    {
     "data": {
      "text/html": [
       "<div>\n",
       "<style>\n",
       "    .dataframe thead tr:only-child th {\n",
       "        text-align: right;\n",
       "    }\n",
       "\n",
       "    .dataframe thead th {\n",
       "        text-align: left;\n",
       "    }\n",
       "\n",
       "    .dataframe tbody tr th {\n",
       "        vertical-align: top;\n",
       "    }\n",
       "</style>\n",
       "<table border=\"1\" class=\"dataframe\">\n",
       "  <thead>\n",
       "    <tr style=\"text-align: right;\">\n",
       "      <th></th>\n",
       "      <th>1</th>\n",
       "    </tr>\n",
       "  </thead>\n",
       "  <tbody>\n",
       "    <tr>\n",
       "      <th>0</th>\n",
       "      <td>i love how liberal keep say the same thing tha...</td>\n",
       "    </tr>\n",
       "    <tr>\n",
       "      <th>1</th>\n",
       "      <td>lol 1 million new job 11000 less federal job b...</td>\n",
       "    </tr>\n",
       "    <tr>\n",
       "      <th>2</th>\n",
       "      <td>his new general be suppose to keep him in chec...</td>\n",
       "    </tr>\n",
       "    <tr>\n",
       "      <th>3</th>\n",
       "      <td>no it doesnt ilive in arizona and we be fine h...</td>\n",
       "    </tr>\n",
       "    <tr>\n",
       "      <th>4</th>\n",
       "      <td>arizona be turn blue in no time it go in a tre...</td>\n",
       "    </tr>\n",
       "    <tr>\n",
       "      <th>5</th>\n",
       "      <td>if trump wasnt a racist ignorant bigot he woul...</td>\n",
       "    </tr>\n",
       "    <tr>\n",
       "      <th>6</th>\n",
       "      <td>donald trump be on a path to become cemented i...</td>\n",
       "    </tr>\n",
       "    <tr>\n",
       "      <th>7</th>\n",
       "      <td>blame the establishment rino republican and al...</td>\n",
       "    </tr>\n",
       "    <tr>\n",
       "      <th>8</th>\n",
       "      <td>well be still wait to see his amaze wonderful ...</td>\n",
       "    </tr>\n",
       "    <tr>\n",
       "      <th>9</th>\n",
       "      <td>oh cnn lmmfao youre always misinform arent you...</td>\n",
       "    </tr>\n",
       "    <tr>\n",
       "      <th>10</th>\n",
       "      <td>wait for this rag of an outlet to say one thin...</td>\n",
       "    </tr>\n",
       "    <tr>\n",
       "      <th>11</th>\n",
       "      <td>cnn fake news lieswhy do you feel like you mus...</td>\n",
       "    </tr>\n",
       "    <tr>\n",
       "      <th>12</th>\n",
       "      <td>hellotrump supporter do you really not have a ...</td>\n",
       "    </tr>\n",
       "    <tr>\n",
       "      <th>13</th>\n",
       "      <td>ive be try to explain this to you since obama ...</td>\n",
       "    </tr>\n",
       "    <tr>\n",
       "      <th>14</th>\n",
       "      <td>be you kid me arizona voter a in mccains state...</td>\n",
       "    </tr>\n",
       "    <tr>\n",
       "      <th>15</th>\n",
       "      <td>for the trump supporter that i know if you cou...</td>\n",
       "    </tr>\n",
       "    <tr>\n",
       "      <th>16</th>\n",
       "      <td>trump want to take away health insurance from ...</td>\n",
       "    </tr>\n",
       "    <tr>\n",
       "      <th>17</th>\n",
       "      <td>cnn the leader in fake news and the leader in ...</td>\n",
       "    </tr>\n",
       "    <tr>\n",
       "      <th>18</th>\n",
       "      <td>NaN</td>\n",
       "    </tr>\n",
       "    <tr>\n",
       "      <th>19</th>\n",
       "      <td>hey yall remember when president obama start t...</td>\n",
       "    </tr>\n",
       "    <tr>\n",
       "      <th>20</th>\n",
       "      <td>thats funnyi be currently in arizona and that ...</td>\n",
       "    </tr>\n",
       "    <tr>\n",
       "      <th>21</th>\n",
       "      <td>in trump defense he have be push a healthcare ...</td>\n",
       "    </tr>\n",
       "    <tr>\n",
       "      <th>22</th>\n",
       "      <td>it not our president blame the rhino in congre...</td>\n",
       "    </tr>\n",
       "    <tr>\n",
       "      <th>23</th>\n",
       "      <td>they believe the salesman hype and buy a lemon...</td>\n",
       "    </tr>\n",
       "    <tr>\n",
       "      <th>24</th>\n",
       "      <td>arizona please do not believe the lie of cnn i...</td>\n",
       "    </tr>\n",
       "    <tr>\n",
       "      <th>25</th>\n",
       "      <td>if you vote for a clown a circus be what you get</td>\n",
       "    </tr>\n",
       "    <tr>\n",
       "      <th>26</th>\n",
       "      <td>the liar n chief say his health care plan be b...</td>\n",
       "    </tr>\n",
       "    <tr>\n",
       "      <th>27</th>\n",
       "      <td>i saw right through him from the very beginnin...</td>\n",
       "    </tr>\n",
       "    <tr>\n",
       "      <th>28</th>\n",
       "      <td>theyre idiot for think healthcare cost would g...</td>\n",
       "    </tr>\n",
       "    <tr>\n",
       "      <th>29</th>\n",
       "      <td>he do exactly what we want confuse the leftist...</td>\n",
       "    </tr>\n",
       "    <tr>\n",
       "      <th>...</th>\n",
       "      <td>...</td>\n",
       "    </tr>\n",
       "    <tr>\n",
       "      <th>70</th>\n",
       "      <td>get back to the white house you knucklehead th...</td>\n",
       "    </tr>\n",
       "    <tr>\n",
       "      <th>71</th>\n",
       "      <td>trump be the best president ever and will be 8...</td>\n",
       "    </tr>\n",
       "    <tr>\n",
       "      <th>72</th>\n",
       "      <td>what be go on in this nation \\n\\nmaturity and ...</td>\n",
       "    </tr>\n",
       "    <tr>\n",
       "      <th>73</th>\n",
       "      <td>another big lie from cnnthe story talk about a...</td>\n",
       "    </tr>\n",
       "    <tr>\n",
       "      <th>74</th>\n",
       "      <td>totally untrue we trump supporter blame the de...</td>\n",
       "    </tr>\n",
       "    <tr>\n",
       "      <th>75</th>\n",
       "      <td>real or fake news there be lot of u who lose p...</td>\n",
       "    </tr>\n",
       "    <tr>\n",
       "      <th>76</th>\n",
       "      <td>not true it the rinos and the dematurds that f...</td>\n",
       "    </tr>\n",
       "    <tr>\n",
       "      <th>77</th>\n",
       "      <td>president trump accomplishment so far\\n1suprem...</td>\n",
       "    </tr>\n",
       "    <tr>\n",
       "      <th>78</th>\n",
       "      <td>more fake news from cnn sure trump voter be up...</td>\n",
       "    </tr>\n",
       "    <tr>\n",
       "      <th>79</th>\n",
       "      <td>those trump supporter keep say liberal they ha...</td>\n",
       "    </tr>\n",
       "    <tr>\n",
       "      <th>80</th>\n",
       "      <td>okive be wait for the trumptydumpty sat on a w...</td>\n",
       "    </tr>\n",
       "    <tr>\n",
       "      <th>81</th>\n",
       "      <td>why be it that when the stock market be at all...</td>\n",
       "    </tr>\n",
       "    <tr>\n",
       "      <th>82</th>\n",
       "      <td>trump have fail to do anything he promise the ...</td>\n",
       "    </tr>\n",
       "    <tr>\n",
       "      <th>83</th>\n",
       "      <td>it not trump thats fail be you journalist ther...</td>\n",
       "    </tr>\n",
       "    <tr>\n",
       "      <th>84</th>\n",
       "      <td>remember what happen to george hw bushno new t...</td>\n",
       "    </tr>\n",
       "    <tr>\n",
       "      <th>85</th>\n",
       "      <td>negative this supporter feel that donald trump...</td>\n",
       "    </tr>\n",
       "    <tr>\n",
       "      <th>86</th>\n",
       "      <td>dear cnn president donald j trump can not prev...</td>\n",
       "    </tr>\n",
       "    <tr>\n",
       "      <th>87</th>\n",
       "      <td>isnt that where john mccain be from isnt mccai...</td>\n",
       "    </tr>\n",
       "    <tr>\n",
       "      <th>88</th>\n",
       "      <td>when this be all over and trump be out of offi...</td>\n",
       "    </tr>\n",
       "    <tr>\n",
       "      <th>89</th>\n",
       "      <td>if we do not to set up national health for eve...</td>\n",
       "    </tr>\n",
       "    <tr>\n",
       "      <th>90</th>\n",
       "      <td>let it go he try so hard that be not failure t...</td>\n",
       "    </tr>\n",
       "    <tr>\n",
       "      <th>91</th>\n",
       "      <td>how in the world do anyone have any patience w...</td>\n",
       "    </tr>\n",
       "    <tr>\n",
       "      <th>92</th>\n",
       "      <td>well this be expect a potus can say all they w...</td>\n",
       "    </tr>\n",
       "    <tr>\n",
       "      <th>93</th>\n",
       "      <td>consumer confidence at 16 year high unemployme...</td>\n",
       "    </tr>\n",
       "    <tr>\n",
       "      <th>94</th>\n",
       "      <td>really u deplorables never really think it wou...</td>\n",
       "    </tr>\n",
       "    <tr>\n",
       "      <th>95</th>\n",
       "      <td>oh cnn you only wish any of these word be true...</td>\n",
       "    </tr>\n",
       "    <tr>\n",
       "      <th>96</th>\n",
       "      <td>benghazi no grand jury impaneled\\n2 clinton fo...</td>\n",
       "    </tr>\n",
       "    <tr>\n",
       "      <th>97</th>\n",
       "      <td>the dow jones rise be go to happen anyway not ...</td>\n",
       "    </tr>\n",
       "    <tr>\n",
       "      <th>98</th>\n",
       "      <td>marla voyles you be praise president obama and...</td>\n",
       "    </tr>\n",
       "    <tr>\n",
       "      <th>99</th>\n",
       "      <td>he a child that have no chance of live out his...</td>\n",
       "    </tr>\n",
       "  </tbody>\n",
       "</table>\n",
       "<p>100 rows × 1 columns</p>\n",
       "</div>"
      ],
      "text/plain": [
       "                                                    1\n",
       "0   i love how liberal keep say the same thing tha...\n",
       "1   lol 1 million new job 11000 less federal job b...\n",
       "2   his new general be suppose to keep him in chec...\n",
       "3   no it doesnt ilive in arizona and we be fine h...\n",
       "4   arizona be turn blue in no time it go in a tre...\n",
       "5   if trump wasnt a racist ignorant bigot he woul...\n",
       "6   donald trump be on a path to become cemented i...\n",
       "7   blame the establishment rino republican and al...\n",
       "8   well be still wait to see his amaze wonderful ...\n",
       "9   oh cnn lmmfao youre always misinform arent you...\n",
       "10  wait for this rag of an outlet to say one thin...\n",
       "11  cnn fake news lieswhy do you feel like you mus...\n",
       "12  hellotrump supporter do you really not have a ...\n",
       "13  ive be try to explain this to you since obama ...\n",
       "14  be you kid me arizona voter a in mccains state...\n",
       "15  for the trump supporter that i know if you cou...\n",
       "16  trump want to take away health insurance from ...\n",
       "17  cnn the leader in fake news and the leader in ...\n",
       "18                                                NaN\n",
       "19  hey yall remember when president obama start t...\n",
       "20  thats funnyi be currently in arizona and that ...\n",
       "21  in trump defense he have be push a healthcare ...\n",
       "22  it not our president blame the rhino in congre...\n",
       "23  they believe the salesman hype and buy a lemon...\n",
       "24  arizona please do not believe the lie of cnn i...\n",
       "25   if you vote for a clown a circus be what you get\n",
       "26  the liar n chief say his health care plan be b...\n",
       "27  i saw right through him from the very beginnin...\n",
       "28  theyre idiot for think healthcare cost would g...\n",
       "29  he do exactly what we want confuse the leftist...\n",
       "..                                                ...\n",
       "70  get back to the white house you knucklehead th...\n",
       "71  trump be the best president ever and will be 8...\n",
       "72  what be go on in this nation \\n\\nmaturity and ...\n",
       "73  another big lie from cnnthe story talk about a...\n",
       "74  totally untrue we trump supporter blame the de...\n",
       "75  real or fake news there be lot of u who lose p...\n",
       "76  not true it the rinos and the dematurds that f...\n",
       "77  president trump accomplishment so far\\n1suprem...\n",
       "78  more fake news from cnn sure trump voter be up...\n",
       "79  those trump supporter keep say liberal they ha...\n",
       "80  okive be wait for the trumptydumpty sat on a w...\n",
       "81  why be it that when the stock market be at all...\n",
       "82  trump have fail to do anything he promise the ...\n",
       "83  it not trump thats fail be you journalist ther...\n",
       "84  remember what happen to george hw bushno new t...\n",
       "85  negative this supporter feel that donald trump...\n",
       "86  dear cnn president donald j trump can not prev...\n",
       "87  isnt that where john mccain be from isnt mccai...\n",
       "88  when this be all over and trump be out of offi...\n",
       "89  if we do not to set up national health for eve...\n",
       "90  let it go he try so hard that be not failure t...\n",
       "91  how in the world do anyone have any patience w...\n",
       "92  well this be expect a potus can say all they w...\n",
       "93  consumer confidence at 16 year high unemployme...\n",
       "94  really u deplorables never really think it wou...\n",
       "95  oh cnn you only wish any of these word be true...\n",
       "96  benghazi no grand jury impaneled\\n2 clinton fo...\n",
       "97  the dow jones rise be go to happen anyway not ...\n",
       "98  marla voyles you be praise president obama and...\n",
       "99  he a child that have no chance of live out his...\n",
       "\n",
       "[100 rows x 1 columns]"
      ]
     },
     "execution_count": 47,
     "metadata": {},
     "output_type": "execute_result"
    }
   ],
   "source": [
    "pd.read_csv(\"annotated_lem.csv\",header=None).iloc[:,1:2]"
   ]
  },
  {
   "cell_type": "code",
   "execution_count": 67,
   "metadata": {
    "collapsed": true
   },
   "outputs": [],
   "source": [
    "from ftrgen import LexiconFeatures\n",
    "lexftr = LexiconFeatures(lexicondir=os.path.join('emd_data/lexicons/'))\n",
    "lexiconsPath = 'temp.csv'\n",
    "lexftr.build(path=lexiconsPath)\n",
    "lexftr.load(path=lexiconsPath)\n",
    "X_train_lex = lexftr.vectorizeDataset(pd.read_csv(\"annotated_lem.csv\")[\"content\"])\n",
    "# X_dev_lex = lexftr.vectorizeDataset(pd.read_csv(\"test_annotation.csv\")[\"valance\"])\n",
    "X_train_lex = X_train_lex[[c for c in X_train_lex.columns if c != 'tweet']].values\n",
    "# X_dev_lex = X_dev_lex[[c for c in X_dev_lex.columns if c != 'tweet']].values\n",
    "y_train_lex = pd.read_csv(\"test_annotation.csv\",encoding = \"ISO-8859-1\")[\"valance\"]"
   ]
  },
  {
   "cell_type": "code",
   "execution_count": 68,
   "metadata": {
    "collapsed": true
   },
   "outputs": [],
   "source": [
    "y_train_lex[y_train_lex==0]=1"
   ]
  },
  {
   "cell_type": "code",
   "execution_count": 69,
   "metadata": {
    "collapsed": false
   },
   "outputs": [
    {
     "data": {
      "text/plain": [
       "array([[2.        , 1.        , 5.        , ..., 1.81895348, 1.59862419,\n",
       "        3.05839342],\n",
       "       [1.        , 1.        , 2.        , ..., 0.31445143, 0.76441477,\n",
       "        1.98796245],\n",
       "       [1.        , 6.        , 1.        , ..., 1.34859016, 1.27534351,\n",
       "        2.55683547],\n",
       "       ...,\n",
       "       [4.        , 2.        , 7.        , ..., 1.48308502, 1.86509631,\n",
       "        4.22515118],\n",
       "       [2.        , 1.        , 3.        , ..., 2.78388834, 1.78369785,\n",
       "        3.94216217],\n",
       "       [2.        , 2.        , 5.        , ..., 2.33929821, 1.87791113,\n",
       "        3.76413187]])"
      ]
     },
     "execution_count": 69,
     "metadata": {},
     "output_type": "execute_result"
    }
   ],
   "source": [
    "X_train_lex"
   ]
  },
  {
   "cell_type": "code",
   "execution_count": 118,
   "metadata": {
    "collapsed": false
   },
   "outputs": [
    {
     "name": "stdout",
     "output_type": "stream",
     "text": [
      "0.4\n"
     ]
    }
   ],
   "source": [
    "from sklearn.ensemble import RandomForestClassifier\n",
    "rfc = RandomForestClassifier(n_estimators=16,max_depth=100)\n",
    "rfc.fit(X_train_lex[0:80],y_train_lex[0:80])\n",
    "rfc_y = rfc.predict(X_train_lex[80:100])\n",
    "print(sum(rfc_y==(y_train_lex[80:100]))/20)"
   ]
  },
  {
   "cell_type": "code",
   "execution_count": 116,
   "metadata": {
    "collapsed": false
   },
   "outputs": [
    {
     "data": {
      "text/plain": [
       "80    False\n",
       "81    False\n",
       "82     True\n",
       "83    False\n",
       "84    False\n",
       "85     True\n",
       "86     True\n",
       "87     True\n",
       "88     True\n",
       "89    False\n",
       "90    False\n",
       "91     True\n",
       "92    False\n",
       "93    False\n",
       "94    False\n",
       "95     True\n",
       "96     True\n",
       "97     True\n",
       "98    False\n",
       "99     True\n",
       "Name: valance, dtype: bool"
      ]
     },
     "execution_count": 116,
     "metadata": {},
     "output_type": "execute_result"
    }
   ],
   "source": [
    "(rfc_y==y_train_lex[80:100])"
   ]
  },
  {
   "cell_type": "code",
   "execution_count": 76,
   "metadata": {
    "collapsed": false
   },
   "outputs": [
    {
     "data": {
      "text/plain": [
       "80   -1.0\n",
       "81   -1.0\n",
       "82    1.0\n",
       "83   -1.0\n",
       "84    1.0\n",
       "85   -1.0\n",
       "86   -1.0\n",
       "87    1.0\n",
       "88    1.0\n",
       "89    1.0\n",
       "90   -1.0\n",
       "91    1.0\n",
       "92    1.0\n",
       "93   -1.0\n",
       "94   -1.0\n",
       "95   -1.0\n",
       "96   -1.0\n",
       "97    1.0\n",
       "98    1.0\n",
       "99    1.0\n",
       "Name: valance, dtype: float64"
      ]
     },
     "execution_count": 76,
     "metadata": {},
     "output_type": "execute_result"
    }
   ],
   "source": [
    "y_train_lex[80:100]"
   ]
  },
  {
   "cell_type": "code",
   "execution_count": 48,
   "metadata": {
    "collapsed": false
   },
   "outputs": [
    {
     "ename": "AttributeError",
     "evalue": "'numpy.int64' object has no attribute 'split'",
     "output_type": "error",
     "traceback": [
      "\u001b[0;31m---------------------------------------------------------------------------\u001b[0m",
      "\u001b[0;31mAttributeError\u001b[0m                            Traceback (most recent call last)",
      "\u001b[0;32m<ipython-input-48-f2e7236cb568>\u001b[0m in \u001b[0;36m<module>\u001b[0;34m()\u001b[0m\n\u001b[1;32m      4\u001b[0m \u001b[0mlexftr\u001b[0m\u001b[0;34m.\u001b[0m\u001b[0mbuild\u001b[0m\u001b[0;34m(\u001b[0m\u001b[0mpath\u001b[0m\u001b[0;34m=\u001b[0m\u001b[0mlexiconsPath\u001b[0m\u001b[0;34m)\u001b[0m\u001b[0;34m\u001b[0m\u001b[0m\n\u001b[1;32m      5\u001b[0m \u001b[0mlexftr\u001b[0m\u001b[0;34m.\u001b[0m\u001b[0mload\u001b[0m\u001b[0;34m(\u001b[0m\u001b[0mpath\u001b[0m\u001b[0;34m=\u001b[0m\u001b[0mlexiconsPath\u001b[0m\u001b[0;34m)\u001b[0m\u001b[0;34m\u001b[0m\u001b[0m\n\u001b[0;32m----> 6\u001b[0;31m \u001b[0mX_train_lex\u001b[0m \u001b[0;34m=\u001b[0m \u001b[0mlexftr\u001b[0m\u001b[0;34m.\u001b[0m\u001b[0mvectorizeDataset\u001b[0m\u001b[0;34m(\u001b[0m\u001b[0mpd\u001b[0m\u001b[0;34m.\u001b[0m\u001b[0mread_csv\u001b[0m\u001b[0;34m(\u001b[0m\u001b[0;34m\"annotated_lem.csv\"\u001b[0m\u001b[0;34m,\u001b[0m\u001b[0mheader\u001b[0m\u001b[0;34m=\u001b[0m\u001b[0;32mNone\u001b[0m\u001b[0;34m)\u001b[0m\u001b[0;34m.\u001b[0m\u001b[0miloc\u001b[0m\u001b[0;34m[\u001b[0m\u001b[0;34m:\u001b[0m\u001b[0;34m,\u001b[0m\u001b[0;36m1\u001b[0m\u001b[0;34m:\u001b[0m\u001b[0;36m2\u001b[0m\u001b[0;34m]\u001b[0m\u001b[0;34m)\u001b[0m\u001b[0;34m\u001b[0m\u001b[0m\n\u001b[0m\u001b[1;32m      7\u001b[0m \u001b[0;31m# X_dev_lex = lexftr.vectorizeDataset(pd.read_csv(\"test_annotation.csv\")[\"valance\"])\u001b[0m\u001b[0;34m\u001b[0m\u001b[0;34m\u001b[0m\u001b[0m\n\u001b[1;32m      8\u001b[0m \u001b[0;31m# X_train_lex = X_train_lex[[c for c in X_train_lex.columns if c != 'tweet']].values\u001b[0m\u001b[0;34m\u001b[0m\u001b[0;34m\u001b[0m\u001b[0m\n",
      "\u001b[0;32m~/cascade/ftrgen.py\u001b[0m in \u001b[0;36mvectorizeDataset\u001b[0;34m(self, tweets, updateInterval)\u001b[0m\n\u001b[1;32m    157\u001b[0m \u001b[0;34m\u001b[0m\u001b[0m\n\u001b[1;32m    158\u001b[0m         \u001b[0;32mfor\u001b[0m \u001b[0midx\u001b[0m\u001b[0;34m,\u001b[0m\u001b[0mtweet\u001b[0m \u001b[0;32min\u001b[0m \u001b[0menumerate\u001b[0m\u001b[0;34m(\u001b[0m\u001b[0mtweets\u001b[0m\u001b[0;34m)\u001b[0m\u001b[0;34m:\u001b[0m\u001b[0;34m\u001b[0m\u001b[0m\n\u001b[0;32m--> 159\u001b[0;31m             \u001b[0mftrs\u001b[0m\u001b[0;34m[\u001b[0m\u001b[0midx\u001b[0m\u001b[0;34m,\u001b[0m\u001b[0;34m:\u001b[0m\u001b[0;34m]\u001b[0m \u001b[0;34m=\u001b[0m \u001b[0mself\u001b[0m\u001b[0;34m.\u001b[0m\u001b[0mvectorizeDoc\u001b[0m\u001b[0;34m(\u001b[0m\u001b[0mtweet\u001b[0m\u001b[0;34m)\u001b[0m\u001b[0;34m\u001b[0m\u001b[0m\n\u001b[0m\u001b[1;32m    160\u001b[0m         \u001b[0mdf\u001b[0m \u001b[0;34m=\u001b[0m \u001b[0mpd\u001b[0m\u001b[0;34m.\u001b[0m\u001b[0mDataFrame\u001b[0m\u001b[0;34m(\u001b[0m\u001b[0;34m)\u001b[0m\u001b[0;34m\u001b[0m\u001b[0m\n\u001b[1;32m    161\u001b[0m         \u001b[0mdf\u001b[0m\u001b[0;34m[\u001b[0m\u001b[0;34m'tweet'\u001b[0m\u001b[0;34m]\u001b[0m \u001b[0;34m=\u001b[0m \u001b[0mtweets\u001b[0m\u001b[0;34m\u001b[0m\u001b[0m\n",
      "\u001b[0;32m~/cascade/ftrgen.py\u001b[0m in \u001b[0;36mvectorizeDoc\u001b[0;34m(self, tweet)\u001b[0m\n\u001b[1;32m    142\u001b[0m \u001b[0;34m\u001b[0m\u001b[0m\n\u001b[1;32m    143\u001b[0m     \u001b[0;32mdef\u001b[0m \u001b[0mvectorizeDoc\u001b[0m\u001b[0;34m(\u001b[0m\u001b[0mself\u001b[0m\u001b[0;34m,\u001b[0m \u001b[0mtweet\u001b[0m\u001b[0;34m)\u001b[0m\u001b[0;34m:\u001b[0m\u001b[0;34m\u001b[0m\u001b[0m\n\u001b[0;32m--> 144\u001b[0;31m         \u001b[0mdoc\u001b[0m \u001b[0;34m=\u001b[0m \u001b[0mtweet\u001b[0m\u001b[0;34m.\u001b[0m\u001b[0msplit\u001b[0m\u001b[0;34m(\u001b[0m\u001b[0;34m)\u001b[0m\u001b[0;34m\u001b[0m\u001b[0m\n\u001b[0m\u001b[1;32m    145\u001b[0m         \u001b[0;31m# tokens = [token.text for token in doc]\u001b[0m\u001b[0;34m\u001b[0m\u001b[0;34m\u001b[0m\u001b[0m\n\u001b[1;32m    146\u001b[0m         \u001b[0;31m# tokens = [token.lemma_ for token in doc]\u001b[0m\u001b[0;34m\u001b[0m\u001b[0;34m\u001b[0m\u001b[0m\n",
      "\u001b[0;31mAttributeError\u001b[0m: 'numpy.int64' object has no attribute 'split'"
     ]
    }
   ],
   "source": [
    "from ftrgen import LexiconFeatures\n",
    "lexftr = LexiconFeatures(lexicondir=os.path.join('emd_data/lexicons/'))\n",
    "lexiconsPath = 'temp.csv'\n",
    "lexftr.build(path=lexiconsPath)\n",
    "lexftr.load(path=lexiconsPath)\n",
    "X_train_lex = lexftr.vectorizeDataset(pd.read_csv(os.path.join(path,\"balanced_train_value.csv\"))[\"0\"])\n",
    "X_dev_lex = lexftr.vectorizeDataset(pd.read_csv(os.path.join(path,\"balanced_test_value.csv\"))[\"0\"])\n",
    "X_train_lex = X_train_lex[[c for c in X_train_lex.columns if c != 'tweet']].values\n",
    "X_dev_lex = X_dev_lex[[c for c in X_dev_lex.columns if c != 'tweet']].values"
   ]
  },
  {
   "cell_type": "code",
   "execution_count": 51,
   "metadata": {
    "collapsed": false
   },
   "outputs": [
    {
     "data": {
      "text/plain": [
       "pandas.core.series.Series"
      ]
     },
     "execution_count": 51,
     "metadata": {},
     "output_type": "execute_result"
    }
   ],
   "source": [
    "type(pd.read_csv(os.path.join(path,\"balanced_train_value.csv\"))[\"0\"])"
   ]
  },
  {
   "cell_type": "code",
   "execution_count": null,
   "metadata": {
    "collapsed": true
   },
   "outputs": [],
   "source": [
    "from sklearn.decomposition import PCA\n",
    "pca_ins = PCA(n_components=2)\n",
    "red = pca_ins.fit_transform(X_train_lex)\n",
    "import matplotlib.pyplot as plt\n",
    "plt.scatter(red[:,0],red[:,1])\n",
    "plt.show() "
   ]
  },
  {
   "cell_type": "code",
   "execution_count": 152,
   "metadata": {
    "collapsed": false
   },
   "outputs": [
    {
     "data": {
      "image/png": "[encoded data removed]",
      "text/plain": [
       "<matplotlib.figure.Figure at 0x1a298cb4e0>"
      ]
     },
     "metadata": {},
     "output_type": "display_data"
    }
   ],
   "source": [
    "plt.scatter(red[:,0],red[:,1])\n",
    "plt.xlim(-10, 100)\n",
    "plt.ylim(-20, 20)\n",
    "plt.show()"
   ]
  },
  {
   "cell_type": "code",
   "execution_count": 153,
   "metadata": {
    "collapsed": false
   },
   "outputs": [
    {
     "name": "stdout",
     "output_type": "stream",
     "text": [
      "0.43665158371040724\n"
     ]
    }
   ],
   "source": [
    "from sklearn.ensemble import RandomForestClassifier\n",
    "rfc = RandomForestClassifier(n_estimators=16,max_depth=10)\n",
    "rfc.fit(X_train_lex,balanced_y_train)\n",
    "rfc_y = rfc.predict(X_dev_lex)\n",
    "print(sum(rfc_y==balanced_y_test)/len(balanced_y_test))"
   ]
  },
  {
   "cell_type": "code",
   "execution_count": 154,
   "metadata": {
    "collapsed": false
   },
   "outputs": [
    {
     "name": "stdout",
     "output_type": "stream",
     "text": [
      "(442,)\n",
      "(442,)\n",
      "two_classes_accuracy 0.6244343891402715\n"
     ]
    }
   ],
   "source": [
    "error_collection(balanced_test_value_df,balanced_y_test,rfc_y,\"balanced_test_lexicon.csv\")\n",
    "print(\"two_classes_accuracy\",two_classes_accuracy(balanced_y_test,rfc_y))"
   ]
  },
  {
   "cell_type": "code",
   "execution_count": null,
   "metadata": {
    "collapsed": true
   },
   "outputs": [],
   "source": []
  },
  {
   "cell_type": "code",
   "execution_count": 271,
   "metadata": {
    "collapsed": true
   },
   "outputs": [],
   "source": [
    "# from sklearn.cluster import KMeans\n",
    "# kmeans = KMeans(n_clusters=4, n_init=20, n_jobs=4)\n",
    "# kmeans.fit(X_train_lex)\n",
    "# y_km = kmeans.predict(X_dev_lex)\n",
    "# x_test[y_km==y_test]"
   ]
  },
  {
   "cell_type": "code",
   "execution_count": null,
   "metadata": {
    "collapsed": true
   },
   "outputs": [],
   "source": [
    "def deepLSTM1_lexi():\n",
    "    inp = Input(shape=(41,), name='input')\n",
    "    x = Embedding(10000+2, glove_size, weights=[embedding_matrix], name='embedding')(inp)\n",
    "    x = Dropout(0.2)(x)\n",
    "    x = Conv1D(filters=64, kernel_size=5, padding='valid', activation='relu', strides=1, name='conv1')(x)\n",
    "    x = MaxPooling1D(pool_size=4, name='maxpool1')(x)\n",
    "    x = Bidirectional(LSTM(100, return_sequences=True, dropout=0.1, recurrent_dropout=0.1), name='bilstm1')(x)\n",
    "#     x = Bidirectional(LSTM(50, return_sequences=True, dropout=0.1, recurrent_dropout=0.1), name='bilstm2')(x)\n",
    "\n",
    "    x = Flatten()(x)\n",
    "    x = Dense(100, activation='relu', name='dense1')(x)\n",
    "    x = Dense(50, activation='relu', name='dense2')(x)\n",
    "    x = Dense(4, activation='sigmoid', name='dense3')(x)\n",
    "    model = Model(input=inp, output=x)\n",
    "#     model = Model(outputs=x, inputs=inp)\n",
    "    model.compile(loss='categorical_crossentropy', optimizer='adam',metrics=['accuracy'])\n",
    "    return model"
   ]
  },
  {
   "cell_type": "code",
   "execution_count": 55,
   "metadata": {
    "collapsed": false
   },
   "outputs": [
    {
     "data": {
      "text/plain": [
       "0.4421052631578947"
      ]
     },
     "execution_count": 55,
     "metadata": {},
     "output_type": "execute_result"
    }
   ],
   "source": [
    "model.fit(X_train_lex.reshape(), cag_y_train, batch_size=32, epochs=10, validation_split=0.1)\n",
    "print('Acc:', model.evaluate(X_test, cag_y_test, batch_size=32)[1])"
   ]
  },
  {
   "cell_type": "markdown",
   "metadata": {
    "collapsed": true
   },
   "source": [
    "### three classes"
   ]
  },
  {
   "cell_type": "code",
   "execution_count": 226,
   "metadata": {
    "collapsed": false
   },
   "outputs": [
    {
     "data": {
      "text/plain": [
       "0    0.0\n",
       "Name: lex-NRC10-negative, dtype: float64"
      ]
     },
     "execution_count": 226,
     "metadata": {},
     "output_type": "execute_result"
    }
   ],
   "source": [
    "def getNRCEmotions(lexicondir):\n",
    "    df = pd.read_csv(os.path.join(lexicondir, 'NRC-emotion-lexicon-wordlevel-v0.92.txt.gz'), sep='\\t')\n",
    "    df.columns = ['word', 'emotion', 'lex-NRC10']\n",
    "    df = pd.pivot_table(df, values='lex-NRC10', index=['word'], columns=['emotion'])\n",
    "    df.reset_index(level=0, inplace=True)\n",
    "    newCols = ['word'] + ['lex-NRC10-' + x for x in df.columns[1:]]\n",
    "    df.columns = newCols\n",
    "    return df\n",
    "lexicon = getNRCEmotions('emd_data/lexicons/')\n",
    "# (lexicon[lexicon[\"emotion\"]==\"positive\"][\"word\"]==\"smut\")\n",
    "lexicon[lexicon[\"word\"]==\"aback\"][\"lex-NRC10-negative\"]"
   ]
  },
  {
   "cell_type": "code",
   "execution_count": 176,
   "metadata": {
    "collapsed": true
   },
   "outputs": [],
   "source": [
    "# lexftr = LexiconFeatures(lexicondir=os.path.join('emd_data/lexicons/'))\n"
   ]
  },
  {
   "cell_type": "code",
   "execution_count": 229,
   "metadata": {
    "collapsed": false
   },
   "outputs": [
    {
     "name": "stdout",
     "output_type": "stream",
     "text": [
      "['This', 'is', 'a', 'sample', 'sentence', ',', 'showing', 'off', 'the', 'stop', 'words', 'filtration', '.']\n",
      "['This', 'sample', 'sentence', ',', 'showing', 'stop', 'words', 'filtration', '.']\n"
     ]
    }
   ],
   "source": [
    "from nltk.corpus import stopwords \n",
    "from nltk.tokenize import word_tokenize \n",
    "  \n",
    "example_sent = \"This is a sample sentence, showing off the stop words filtration.\"\n",
    "  \n",
    "stop_words = set(stopwords.words('english')) \n",
    "  \n",
    "word_tokens = word_tokenize(example_sent) \n",
    "  \n",
    "filtered_sentence = [w for w in word_tokens if not w in stop_words] \n",
    "  \n",
    "# filtered_sentence = [] \n",
    "  \n",
    "# for w in word_tokens: \n",
    "#     if w not in stop_words: \n",
    "#         filtered_sentence.append(w) \n",
    "print(word_tokens) \n",
    "print(filtered_sentence)"
   ]
  },
  {
   "cell_type": "code",
   "execution_count": null,
   "metadata": {
    "collapsed": true
   },
   "outputs": [],
   "source": []
  }
 ],
 "metadata": {
  "kernelspec": {
   "display_name": "Python [Anaconda3]",
   "language": "python",
   "name": "Python [Anaconda3]"
  },
  "language_info": {
   "codemirror_mode": {
    "name": "ipython",
    "version": 3
   },
   "file_extension": ".py",
   "mimetype": "text/x-python",
   "name": "python",
   "nbconvert_exporter": "python",
   "pygments_lexer": "ipython3",
   "version": "3.5.5"
  }
 },
 "nbformat": 4,
 "nbformat_minor": 2
}
